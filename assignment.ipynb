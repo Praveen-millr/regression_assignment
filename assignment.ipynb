{
 "cells": [
  {
   "cell_type": "code",
   "execution_count": 2,
   "id": "b9ccc386-5d19-4b16-b9eb-bf80d4ff3e7d",
   "metadata": {},
   "outputs": [],
   "source": [
    "import pandas as pd\n",
    "dataset = pd.read_csv('insurance_pre.csv')"
   ]
  },
  {
   "cell_type": "code",
   "execution_count": 3,
   "id": "b1b11734-3b00-4435-a83f-0eec0e924f76",
   "metadata": {},
   "outputs": [
    {
     "data": {
      "text/html": [
       "<div>\n",
       "<style scoped>\n",
       "    .dataframe tbody tr th:only-of-type {\n",
       "        vertical-align: middle;\n",
       "    }\n",
       "\n",
       "    .dataframe tbody tr th {\n",
       "        vertical-align: top;\n",
       "    }\n",
       "\n",
       "    .dataframe thead th {\n",
       "        text-align: right;\n",
       "    }\n",
       "</style>\n",
       "<table border=\"1\" class=\"dataframe\">\n",
       "  <thead>\n",
       "    <tr style=\"text-align: right;\">\n",
       "      <th></th>\n",
       "      <th>age</th>\n",
       "      <th>sex</th>\n",
       "      <th>bmi</th>\n",
       "      <th>children</th>\n",
       "      <th>smoker</th>\n",
       "      <th>charges</th>\n",
       "    </tr>\n",
       "  </thead>\n",
       "  <tbody>\n",
       "    <tr>\n",
       "      <th>0</th>\n",
       "      <td>19</td>\n",
       "      <td>female</td>\n",
       "      <td>27.900</td>\n",
       "      <td>0</td>\n",
       "      <td>yes</td>\n",
       "      <td>16884.92400</td>\n",
       "    </tr>\n",
       "    <tr>\n",
       "      <th>1</th>\n",
       "      <td>18</td>\n",
       "      <td>male</td>\n",
       "      <td>33.770</td>\n",
       "      <td>1</td>\n",
       "      <td>no</td>\n",
       "      <td>1725.55230</td>\n",
       "    </tr>\n",
       "    <tr>\n",
       "      <th>2</th>\n",
       "      <td>28</td>\n",
       "      <td>male</td>\n",
       "      <td>33.000</td>\n",
       "      <td>3</td>\n",
       "      <td>no</td>\n",
       "      <td>4449.46200</td>\n",
       "    </tr>\n",
       "    <tr>\n",
       "      <th>3</th>\n",
       "      <td>33</td>\n",
       "      <td>male</td>\n",
       "      <td>22.705</td>\n",
       "      <td>0</td>\n",
       "      <td>no</td>\n",
       "      <td>21984.47061</td>\n",
       "    </tr>\n",
       "    <tr>\n",
       "      <th>4</th>\n",
       "      <td>32</td>\n",
       "      <td>male</td>\n",
       "      <td>28.880</td>\n",
       "      <td>0</td>\n",
       "      <td>no</td>\n",
       "      <td>3866.85520</td>\n",
       "    </tr>\n",
       "    <tr>\n",
       "      <th>...</th>\n",
       "      <td>...</td>\n",
       "      <td>...</td>\n",
       "      <td>...</td>\n",
       "      <td>...</td>\n",
       "      <td>...</td>\n",
       "      <td>...</td>\n",
       "    </tr>\n",
       "    <tr>\n",
       "      <th>1333</th>\n",
       "      <td>50</td>\n",
       "      <td>male</td>\n",
       "      <td>30.970</td>\n",
       "      <td>3</td>\n",
       "      <td>no</td>\n",
       "      <td>10600.54830</td>\n",
       "    </tr>\n",
       "    <tr>\n",
       "      <th>1334</th>\n",
       "      <td>18</td>\n",
       "      <td>female</td>\n",
       "      <td>31.920</td>\n",
       "      <td>0</td>\n",
       "      <td>no</td>\n",
       "      <td>2205.98080</td>\n",
       "    </tr>\n",
       "    <tr>\n",
       "      <th>1335</th>\n",
       "      <td>18</td>\n",
       "      <td>female</td>\n",
       "      <td>36.850</td>\n",
       "      <td>0</td>\n",
       "      <td>no</td>\n",
       "      <td>1629.83350</td>\n",
       "    </tr>\n",
       "    <tr>\n",
       "      <th>1336</th>\n",
       "      <td>21</td>\n",
       "      <td>female</td>\n",
       "      <td>25.800</td>\n",
       "      <td>0</td>\n",
       "      <td>no</td>\n",
       "      <td>2007.94500</td>\n",
       "    </tr>\n",
       "    <tr>\n",
       "      <th>1337</th>\n",
       "      <td>61</td>\n",
       "      <td>female</td>\n",
       "      <td>29.070</td>\n",
       "      <td>0</td>\n",
       "      <td>yes</td>\n",
       "      <td>29141.36030</td>\n",
       "    </tr>\n",
       "  </tbody>\n",
       "</table>\n",
       "<p>1338 rows × 6 columns</p>\n",
       "</div>"
      ],
      "text/plain": [
       "      age     sex     bmi  children smoker      charges\n",
       "0      19  female  27.900         0    yes  16884.92400\n",
       "1      18    male  33.770         1     no   1725.55230\n",
       "2      28    male  33.000         3     no   4449.46200\n",
       "3      33    male  22.705         0     no  21984.47061\n",
       "4      32    male  28.880         0     no   3866.85520\n",
       "...   ...     ...     ...       ...    ...          ...\n",
       "1333   50    male  30.970         3     no  10600.54830\n",
       "1334   18  female  31.920         0     no   2205.98080\n",
       "1335   18  female  36.850         0     no   1629.83350\n",
       "1336   21  female  25.800         0     no   2007.94500\n",
       "1337   61  female  29.070         0    yes  29141.36030\n",
       "\n",
       "[1338 rows x 6 columns]"
      ]
     },
     "execution_count": 3,
     "metadata": {},
     "output_type": "execute_result"
    }
   ],
   "source": [
    "dataset"
   ]
  },
  {
   "cell_type": "code",
   "execution_count": 4,
   "id": "21716927-9510-412b-a35f-e76aa1cd2157",
   "metadata": {},
   "outputs": [
    {
     "data": {
      "text/plain": [
       "Index(['age', 'sex', 'bmi', 'children', 'smoker', 'charges'], dtype='object')"
      ]
     },
     "execution_count": 4,
     "metadata": {},
     "output_type": "execute_result"
    }
   ],
   "source": [
    "dataset.columns"
   ]
  },
  {
   "cell_type": "code",
   "execution_count": 5,
   "id": "1e367faf-1691-4523-805c-a516d69d5a00",
   "metadata": {},
   "outputs": [],
   "source": [
    "dataset = pd.get_dummies(dataset, drop_first = True)"
   ]
  },
  {
   "cell_type": "code",
   "execution_count": 6,
   "id": "2b305300-c10c-4b5b-ac02-2e1cfea8dc41",
   "metadata": {},
   "outputs": [
    {
     "data": {
      "text/html": [
       "<div>\n",
       "<style scoped>\n",
       "    .dataframe tbody tr th:only-of-type {\n",
       "        vertical-align: middle;\n",
       "    }\n",
       "\n",
       "    .dataframe tbody tr th {\n",
       "        vertical-align: top;\n",
       "    }\n",
       "\n",
       "    .dataframe thead th {\n",
       "        text-align: right;\n",
       "    }\n",
       "</style>\n",
       "<table border=\"1\" class=\"dataframe\">\n",
       "  <thead>\n",
       "    <tr style=\"text-align: right;\">\n",
       "      <th></th>\n",
       "      <th>age</th>\n",
       "      <th>bmi</th>\n",
       "      <th>children</th>\n",
       "      <th>charges</th>\n",
       "      <th>sex_male</th>\n",
       "      <th>smoker_yes</th>\n",
       "    </tr>\n",
       "  </thead>\n",
       "  <tbody>\n",
       "    <tr>\n",
       "      <th>0</th>\n",
       "      <td>19</td>\n",
       "      <td>27.900</td>\n",
       "      <td>0</td>\n",
       "      <td>16884.92400</td>\n",
       "      <td>False</td>\n",
       "      <td>True</td>\n",
       "    </tr>\n",
       "    <tr>\n",
       "      <th>1</th>\n",
       "      <td>18</td>\n",
       "      <td>33.770</td>\n",
       "      <td>1</td>\n",
       "      <td>1725.55230</td>\n",
       "      <td>True</td>\n",
       "      <td>False</td>\n",
       "    </tr>\n",
       "    <tr>\n",
       "      <th>2</th>\n",
       "      <td>28</td>\n",
       "      <td>33.000</td>\n",
       "      <td>3</td>\n",
       "      <td>4449.46200</td>\n",
       "      <td>True</td>\n",
       "      <td>False</td>\n",
       "    </tr>\n",
       "    <tr>\n",
       "      <th>3</th>\n",
       "      <td>33</td>\n",
       "      <td>22.705</td>\n",
       "      <td>0</td>\n",
       "      <td>21984.47061</td>\n",
       "      <td>True</td>\n",
       "      <td>False</td>\n",
       "    </tr>\n",
       "    <tr>\n",
       "      <th>4</th>\n",
       "      <td>32</td>\n",
       "      <td>28.880</td>\n",
       "      <td>0</td>\n",
       "      <td>3866.85520</td>\n",
       "      <td>True</td>\n",
       "      <td>False</td>\n",
       "    </tr>\n",
       "    <tr>\n",
       "      <th>...</th>\n",
       "      <td>...</td>\n",
       "      <td>...</td>\n",
       "      <td>...</td>\n",
       "      <td>...</td>\n",
       "      <td>...</td>\n",
       "      <td>...</td>\n",
       "    </tr>\n",
       "    <tr>\n",
       "      <th>1333</th>\n",
       "      <td>50</td>\n",
       "      <td>30.970</td>\n",
       "      <td>3</td>\n",
       "      <td>10600.54830</td>\n",
       "      <td>True</td>\n",
       "      <td>False</td>\n",
       "    </tr>\n",
       "    <tr>\n",
       "      <th>1334</th>\n",
       "      <td>18</td>\n",
       "      <td>31.920</td>\n",
       "      <td>0</td>\n",
       "      <td>2205.98080</td>\n",
       "      <td>False</td>\n",
       "      <td>False</td>\n",
       "    </tr>\n",
       "    <tr>\n",
       "      <th>1335</th>\n",
       "      <td>18</td>\n",
       "      <td>36.850</td>\n",
       "      <td>0</td>\n",
       "      <td>1629.83350</td>\n",
       "      <td>False</td>\n",
       "      <td>False</td>\n",
       "    </tr>\n",
       "    <tr>\n",
       "      <th>1336</th>\n",
       "      <td>21</td>\n",
       "      <td>25.800</td>\n",
       "      <td>0</td>\n",
       "      <td>2007.94500</td>\n",
       "      <td>False</td>\n",
       "      <td>False</td>\n",
       "    </tr>\n",
       "    <tr>\n",
       "      <th>1337</th>\n",
       "      <td>61</td>\n",
       "      <td>29.070</td>\n",
       "      <td>0</td>\n",
       "      <td>29141.36030</td>\n",
       "      <td>False</td>\n",
       "      <td>True</td>\n",
       "    </tr>\n",
       "  </tbody>\n",
       "</table>\n",
       "<p>1338 rows × 6 columns</p>\n",
       "</div>"
      ],
      "text/plain": [
       "      age     bmi  children      charges  sex_male  smoker_yes\n",
       "0      19  27.900         0  16884.92400     False        True\n",
       "1      18  33.770         1   1725.55230      True       False\n",
       "2      28  33.000         3   4449.46200      True       False\n",
       "3      33  22.705         0  21984.47061      True       False\n",
       "4      32  28.880         0   3866.85520      True       False\n",
       "...   ...     ...       ...          ...       ...         ...\n",
       "1333   50  30.970         3  10600.54830      True       False\n",
       "1334   18  31.920         0   2205.98080     False       False\n",
       "1335   18  36.850         0   1629.83350     False       False\n",
       "1336   21  25.800         0   2007.94500     False       False\n",
       "1337   61  29.070         0  29141.36030     False        True\n",
       "\n",
       "[1338 rows x 6 columns]"
      ]
     },
     "execution_count": 6,
     "metadata": {},
     "output_type": "execute_result"
    }
   ],
   "source": [
    "dataset"
   ]
  },
  {
   "cell_type": "code",
   "execution_count": 7,
   "id": "8b860b7c-8418-409e-8353-58ce056ca8a1",
   "metadata": {},
   "outputs": [],
   "source": [
    "dependent = dataset[['charges']]\n",
    "independent = dataset[['age', 'sex_male', 'bmi', 'children', 'smoker_yes']]"
   ]
  },
  {
   "cell_type": "code",
   "execution_count": 8,
   "id": "c5a00fe9-49bf-499f-9c7f-db72e59feabb",
   "metadata": {},
   "outputs": [
    {
     "data": {
      "text/html": [
       "<div>\n",
       "<style scoped>\n",
       "    .dataframe tbody tr th:only-of-type {\n",
       "        vertical-align: middle;\n",
       "    }\n",
       "\n",
       "    .dataframe tbody tr th {\n",
       "        vertical-align: top;\n",
       "    }\n",
       "\n",
       "    .dataframe thead th {\n",
       "        text-align: right;\n",
       "    }\n",
       "</style>\n",
       "<table border=\"1\" class=\"dataframe\">\n",
       "  <thead>\n",
       "    <tr style=\"text-align: right;\">\n",
       "      <th></th>\n",
       "      <th>charges</th>\n",
       "    </tr>\n",
       "  </thead>\n",
       "  <tbody>\n",
       "    <tr>\n",
       "      <th>0</th>\n",
       "      <td>16884.92400</td>\n",
       "    </tr>\n",
       "    <tr>\n",
       "      <th>1</th>\n",
       "      <td>1725.55230</td>\n",
       "    </tr>\n",
       "    <tr>\n",
       "      <th>2</th>\n",
       "      <td>4449.46200</td>\n",
       "    </tr>\n",
       "    <tr>\n",
       "      <th>3</th>\n",
       "      <td>21984.47061</td>\n",
       "    </tr>\n",
       "    <tr>\n",
       "      <th>4</th>\n",
       "      <td>3866.85520</td>\n",
       "    </tr>\n",
       "    <tr>\n",
       "      <th>...</th>\n",
       "      <td>...</td>\n",
       "    </tr>\n",
       "    <tr>\n",
       "      <th>1333</th>\n",
       "      <td>10600.54830</td>\n",
       "    </tr>\n",
       "    <tr>\n",
       "      <th>1334</th>\n",
       "      <td>2205.98080</td>\n",
       "    </tr>\n",
       "    <tr>\n",
       "      <th>1335</th>\n",
       "      <td>1629.83350</td>\n",
       "    </tr>\n",
       "    <tr>\n",
       "      <th>1336</th>\n",
       "      <td>2007.94500</td>\n",
       "    </tr>\n",
       "    <tr>\n",
       "      <th>1337</th>\n",
       "      <td>29141.36030</td>\n",
       "    </tr>\n",
       "  </tbody>\n",
       "</table>\n",
       "<p>1338 rows × 1 columns</p>\n",
       "</div>"
      ],
      "text/plain": [
       "          charges\n",
       "0     16884.92400\n",
       "1      1725.55230\n",
       "2      4449.46200\n",
       "3     21984.47061\n",
       "4      3866.85520\n",
       "...           ...\n",
       "1333  10600.54830\n",
       "1334   2205.98080\n",
       "1335   1629.83350\n",
       "1336   2007.94500\n",
       "1337  29141.36030\n",
       "\n",
       "[1338 rows x 1 columns]"
      ]
     },
     "execution_count": 8,
     "metadata": {},
     "output_type": "execute_result"
    }
   ],
   "source": [
    "dependent"
   ]
  },
  {
   "cell_type": "code",
   "execution_count": 9,
   "id": "e7821d24-560d-4074-b3b6-21eb43ca0a4b",
   "metadata": {},
   "outputs": [
    {
     "data": {
      "text/html": [
       "<div>\n",
       "<style scoped>\n",
       "    .dataframe tbody tr th:only-of-type {\n",
       "        vertical-align: middle;\n",
       "    }\n",
       "\n",
       "    .dataframe tbody tr th {\n",
       "        vertical-align: top;\n",
       "    }\n",
       "\n",
       "    .dataframe thead th {\n",
       "        text-align: right;\n",
       "    }\n",
       "</style>\n",
       "<table border=\"1\" class=\"dataframe\">\n",
       "  <thead>\n",
       "    <tr style=\"text-align: right;\">\n",
       "      <th></th>\n",
       "      <th>age</th>\n",
       "      <th>sex_male</th>\n",
       "      <th>bmi</th>\n",
       "      <th>children</th>\n",
       "      <th>smoker_yes</th>\n",
       "    </tr>\n",
       "  </thead>\n",
       "  <tbody>\n",
       "    <tr>\n",
       "      <th>0</th>\n",
       "      <td>19</td>\n",
       "      <td>False</td>\n",
       "      <td>27.900</td>\n",
       "      <td>0</td>\n",
       "      <td>True</td>\n",
       "    </tr>\n",
       "    <tr>\n",
       "      <th>1</th>\n",
       "      <td>18</td>\n",
       "      <td>True</td>\n",
       "      <td>33.770</td>\n",
       "      <td>1</td>\n",
       "      <td>False</td>\n",
       "    </tr>\n",
       "    <tr>\n",
       "      <th>2</th>\n",
       "      <td>28</td>\n",
       "      <td>True</td>\n",
       "      <td>33.000</td>\n",
       "      <td>3</td>\n",
       "      <td>False</td>\n",
       "    </tr>\n",
       "    <tr>\n",
       "      <th>3</th>\n",
       "      <td>33</td>\n",
       "      <td>True</td>\n",
       "      <td>22.705</td>\n",
       "      <td>0</td>\n",
       "      <td>False</td>\n",
       "    </tr>\n",
       "    <tr>\n",
       "      <th>4</th>\n",
       "      <td>32</td>\n",
       "      <td>True</td>\n",
       "      <td>28.880</td>\n",
       "      <td>0</td>\n",
       "      <td>False</td>\n",
       "    </tr>\n",
       "    <tr>\n",
       "      <th>...</th>\n",
       "      <td>...</td>\n",
       "      <td>...</td>\n",
       "      <td>...</td>\n",
       "      <td>...</td>\n",
       "      <td>...</td>\n",
       "    </tr>\n",
       "    <tr>\n",
       "      <th>1333</th>\n",
       "      <td>50</td>\n",
       "      <td>True</td>\n",
       "      <td>30.970</td>\n",
       "      <td>3</td>\n",
       "      <td>False</td>\n",
       "    </tr>\n",
       "    <tr>\n",
       "      <th>1334</th>\n",
       "      <td>18</td>\n",
       "      <td>False</td>\n",
       "      <td>31.920</td>\n",
       "      <td>0</td>\n",
       "      <td>False</td>\n",
       "    </tr>\n",
       "    <tr>\n",
       "      <th>1335</th>\n",
       "      <td>18</td>\n",
       "      <td>False</td>\n",
       "      <td>36.850</td>\n",
       "      <td>0</td>\n",
       "      <td>False</td>\n",
       "    </tr>\n",
       "    <tr>\n",
       "      <th>1336</th>\n",
       "      <td>21</td>\n",
       "      <td>False</td>\n",
       "      <td>25.800</td>\n",
       "      <td>0</td>\n",
       "      <td>False</td>\n",
       "    </tr>\n",
       "    <tr>\n",
       "      <th>1337</th>\n",
       "      <td>61</td>\n",
       "      <td>False</td>\n",
       "      <td>29.070</td>\n",
       "      <td>0</td>\n",
       "      <td>True</td>\n",
       "    </tr>\n",
       "  </tbody>\n",
       "</table>\n",
       "<p>1338 rows × 5 columns</p>\n",
       "</div>"
      ],
      "text/plain": [
       "      age  sex_male     bmi  children  smoker_yes\n",
       "0      19     False  27.900         0        True\n",
       "1      18      True  33.770         1       False\n",
       "2      28      True  33.000         3       False\n",
       "3      33      True  22.705         0       False\n",
       "4      32      True  28.880         0       False\n",
       "...   ...       ...     ...       ...         ...\n",
       "1333   50      True  30.970         3       False\n",
       "1334   18     False  31.920         0       False\n",
       "1335   18     False  36.850         0       False\n",
       "1336   21     False  25.800         0       False\n",
       "1337   61     False  29.070         0        True\n",
       "\n",
       "[1338 rows x 5 columns]"
      ]
     },
     "execution_count": 9,
     "metadata": {},
     "output_type": "execute_result"
    }
   ],
   "source": [
    "independent"
   ]
  },
  {
   "cell_type": "code",
   "execution_count": 10,
   "id": "e42838d2-605b-4e8f-81e3-14ab9038fc56",
   "metadata": {},
   "outputs": [],
   "source": [
    "from sklearn.model_selection import train_test_split\n",
    "x_train,x_test,y_train,y_test = train_test_split(independent, dependent, test_size = 0.30, random_state = 1)"
   ]
  },
  {
   "cell_type": "code",
   "execution_count": 12,
   "id": "883d1e04-8e83-431a-a016-0ab07a87d513",
   "metadata": {},
   "outputs": [
    {
     "name": "stderr",
     "output_type": "stream",
     "text": [
      "C:\\anaconda3\\Lib\\site-packages\\sklearn\\utils\\validation.py:1339: DataConversionWarning: A column-vector y was passed when a 1d array was expected. Please change the shape of y to (n_samples, ), for example using ravel().\n",
      "  y = column_or_1d(y, warn=True)\n"
     ]
    },
    {
     "data": {
      "text/plain": [
       "-0.12317348593109023"
      ]
     },
     "execution_count": 12,
     "metadata": {},
     "output_type": "execute_result"
    }
   ],
   "source": [
    "from sklearn.svm import SVR\n",
    "regressor = SVR(kernel = 'linear')\n",
    "regressor.fit(x_train,y_train)\n",
    "y_pred = regressor.predict(x_test)\n",
    "from sklearn.metrics import r2_score\n",
    "result = r2_score(y_test,y_pred)\n",
    "result\n",
    "\n",
    "# from sklearn.linear_model  import LinearRegression\n",
    "# regressor = LinearRegression()\n",
    "\n"
   ]
  },
  {
   "cell_type": "code",
   "execution_count": 13,
   "id": "1c7298c2-67b8-4a69-9aca-79bd42978adc",
   "metadata": {},
   "outputs": [
    {
     "data": {
      "text/plain": [
       "0.7389093130276878"
      ]
     },
     "execution_count": 13,
     "metadata": {},
     "output_type": "execute_result"
    }
   ],
   "source": [
    "from sklearn.linear_model  import LinearRegression\n",
    "regressor = LinearRegression()\n",
    "regressor.fit(x_train,y_train)\n",
    "y_pred = regressor.predict(x_test)\n",
    "from sklearn.metrics import r2_score\n",
    "result = r2_score(y_test,y_pred)\n",
    "result\n",
    "\n",
    "\n"
   ]
  },
  {
   "cell_type": "code",
   "execution_count": 14,
   "id": "4913a68e-0c9c-4dd2-83b5-2c5d1c5f991c",
   "metadata": {},
   "outputs": [
    {
     "name": "stderr",
     "output_type": "stream",
     "text": [
      "C:\\anaconda3\\Lib\\site-packages\\sklearn\\utils\\validation.py:1339: DataConversionWarning: A column-vector y was passed when a 1d array was expected. Please change the shape of y to (n_samples, ), for example using ravel().\n",
      "  y = column_or_1d(y, warn=True)\n"
     ]
    },
    {
     "data": {
      "text/plain": [
       "-0.09658991733759015"
      ]
     },
     "execution_count": 14,
     "metadata": {},
     "output_type": "execute_result"
    }
   ],
   "source": [
    "from sklearn.svm import SVR\n",
    "regressor = SVR(kernel = 'poly')\n",
    "regressor.fit(x_train,y_train)\n",
    "y_pred = regressor.predict(x_test)\n",
    "from sklearn.metrics import r2_score\n",
    "result = r2_score(y_test,y_pred)\n",
    "result"
   ]
  },
  {
   "cell_type": "code",
   "execution_count": 15,
   "id": "f3ada430-5a28-4597-89d5-e0cdf9422fb2",
   "metadata": {},
   "outputs": [
    {
     "name": "stderr",
     "output_type": "stream",
     "text": [
      "C:\\anaconda3\\Lib\\site-packages\\sklearn\\utils\\validation.py:1339: DataConversionWarning: A column-vector y was passed when a 1d array was expected. Please change the shape of y to (n_samples, ), for example using ravel().\n",
      "  y = column_or_1d(y, warn=True)\n"
     ]
    },
    {
     "data": {
      "text/plain": [
       "-0.11748728971096334"
      ]
     },
     "execution_count": 15,
     "metadata": {},
     "output_type": "execute_result"
    }
   ],
   "source": [
    "from sklearn.svm import SVR\n",
    "regressor = SVR(kernel = 'sigmoid')\n",
    "regressor.fit(x_train,y_train)\n",
    "y_pred = regressor.predict(x_test)\n",
    "from sklearn.metrics import r2_score\n",
    "result = r2_score(y_test,y_pred)\n",
    "result"
   ]
  },
  {
   "cell_type": "code",
   "execution_count": 19,
   "id": "2bcd0833-8783-4fe1-8d35-0d579e79beb8",
   "metadata": {},
   "outputs": [
    {
     "data": {
      "text/plain": [
       "0.8435058268122119"
      ]
     },
     "execution_count": 19,
     "metadata": {},
     "output_type": "execute_result"
    }
   ],
   "source": [
    "from sklearn.tree import DecisionTreeRegressor\n",
    "regressor = DecisionTreeRegressor(criterion=\"squared_error\", max_depth=3, random_state=42)\n",
    "regressor.fit(x_train, y_train)\n",
    "y_pred = regressor.predict(x_test)\n",
    "from sklearn.metrics import r2_score\n",
    "result = r2_score(y_test,y_pred)\n",
    "result"
   ]
  },
  {
   "cell_type": "code",
   "execution_count": 26,
   "id": "a427baee-5958-48d2-a996-683ae26fc1c2",
   "metadata": {},
   "outputs": [
    {
     "name": "stderr",
     "output_type": "stream",
     "text": [
      "C:\\anaconda3\\Lib\\site-packages\\sklearn\\base.py:1473: DataConversionWarning: A column-vector y was passed when a 1d array was expected. Please change the shape of y to (n_samples,), for example using ravel().\n",
      "  return fit_method(estimator, *args, **kwargs)\n"
     ]
    },
    {
     "data": {
      "text/plain": [
       "0.8536977464914028"
      ]
     },
     "execution_count": 26,
     "metadata": {},
     "output_type": "execute_result"
    }
   ],
   "source": [
    "from sklearn.ensemble import RandomForestRegressor\n",
    "regressor = RandomForestRegressor(n_estimators=100, max_depth=5, random_state=50)\n",
    "regressor.fit(x_train, y_train)\n",
    "y_pred = regressor.predict(x_test)\n",
    "from sklearn.metrics import r2_score\n",
    "result = r2_score(y_test,y_pred)\n",
    "result"
   ]
  },
  {
   "cell_type": "code",
   "execution_count": 25,
   "id": "08cf77d1-2747-44f0-be6e-21ef97d80b02",
   "metadata": {},
   "outputs": [
    {
     "data": {
      "text/plain": [
       "0.7389093130276878"
      ]
     },
     "execution_count": 25,
     "metadata": {},
     "output_type": "execute_result"
    }
   ],
   "source": [
    "from sklearn.linear_model  import LinearRegression\n",
    "regressor = LinearRegression()\n",
    "regressor.fit(x_train, y_train)\n",
    "y_pred = regressor.predict(x_test)\n",
    "from sklearn.metrics import r2_score\n",
    "result = r2_score(y_test,y_pred)\n",
    "result\n"
   ]
  },
  {
   "cell_type": "code",
   "execution_count": 27,
   "id": "7eca4218-9091-4516-acd3-0fd9f4cac3b1",
   "metadata": {},
   "outputs": [],
   "source": [
    "import pickle\n",
    "with open('random_forest_model.pkl', 'wb') as f:\n",
    "    pickle.dump(regressor, f)\n",
    "with open('random_forest_model.pkl', 'rb') as f:\n",
    "    loaded_model = pickle.load(f)\n",
    "\n",
    "# Use the loaded model to predict\n",
    "y_pred = loaded_model.predict(x_test)"
   ]
  },
  {
   "cell_type": "code",
   "execution_count": 28,
   "id": "5938cfda-ceb8-4908-af6d-93b7582fdd20",
   "metadata": {},
   "outputs": [
    {
     "data": {
      "text/plain": [
       "array([ 3080.20423876, 12829.37088537,  9730.32439805, 10756.58847965,\n",
       "        3227.10975554, 38089.02330868, 10265.60080584, 12946.36416152,\n",
       "        4566.66691216, 20119.49309442, 14169.91744829, 14924.375389  ,\n",
       "        7150.02798777,  7249.3762503 ,  3185.02268251, 10252.68125276,\n",
       "        6060.68418929,  6551.8305085 , 13878.18216789, 13894.8753832 ,\n",
       "       11501.40181466, 40017.21968659,  9495.61000431,  9914.56416699,\n",
       "        3419.14126672,  7178.4614045 ,  8095.56123651, 10159.31390454,\n",
       "        6853.56253422,  5030.49658528, 13083.33549802,  6806.2142285 ,\n",
       "       24859.76535759, 35098.56299247, 25276.23963039, 13854.50529474,\n",
       "       39475.91950882, 18153.59422527, 13065.82846821, 47338.18147128,\n",
       "        7064.55152164, 12846.15102019, 11846.27063524, 13843.34921703,\n",
       "        7012.07945374, 13616.65274555,  3372.06442624, 35072.23605458,\n",
       "       10606.84013363, 19512.57787771, 13971.74258794, 14027.8336127 ,\n",
       "        4148.12034893, 10228.25488273, 17785.7508484 ,  6050.95448298,\n",
       "       41706.57697887, 13689.53887135,  6980.09323656,  3811.70972777,\n",
       "        5504.48737191, 13778.375675  , 22067.295028  ,  4239.23389568,\n",
       "       13628.51513217,  9871.57103862, 10382.84850715, 13582.76650787,\n",
       "        3361.66492577, 17365.99417161, 44648.18773652, 39885.3244297 ,\n",
       "        3188.46916516, 15119.62168123, 13874.17938173, 42237.42595362,\n",
       "        4220.09799368,  5321.06216739, 13405.43197423, 13449.04473106,\n",
       "        3904.7808715 , 14561.63877594, 14235.76100306,  4195.90063102,\n",
       "       40161.50002547, 39452.55941543,  7268.19427567, 44284.51903423,\n",
       "       10731.50853373,  7587.92495421, 20181.91541429, 23514.73656431,\n",
       "       16459.8567234 , 10297.49554619,  2749.17338036, 12910.49388336,\n",
       "       10958.1837881 , 14676.95273731, 12968.78826658,  7156.216171  ,\n",
       "       12792.93626352, 18553.80685143, 19589.8060142 , 36502.53328735,\n",
       "       28435.31094921, 21706.89218766,  2904.16800526,  9213.66813488,\n",
       "        3593.40074065, 13236.68241745,  5619.07481491,  6552.77158279,\n",
       "        2749.17338036, 17119.26501913,  4309.20820375,  3020.91881273,\n",
       "        6786.85035714, 14652.25877384,  7278.3499812 ,  3254.24618847,\n",
       "       10743.42839254, 10628.37318566,  6806.37527975,  9066.33605819,\n",
       "       44784.42305273, 10537.5133985 , 15284.25209219, 20064.96942674,\n",
       "       42929.46642047,  8277.70111606, 38097.91419477,  3162.70364192,\n",
       "        7111.91602158, 42222.46801774,  9797.42029551,  2878.66823795,\n",
       "        2749.17338036,  3562.46662631, 12237.08721923,  9616.71084073,\n",
       "       14088.24229614,  6499.31428584, 20018.58724475, 13907.01912229,\n",
       "       13997.19072504, 13142.65010276,  3509.97524698,  7439.53508704,\n",
       "        3394.26960835,  7468.13750771,  8506.20492744,  6542.88384317,\n",
       "       13653.28043677, 13457.1530825 ,  9835.49154147,  6837.25022428,\n",
       "        9896.29363074, 10100.42124645, 10776.75674415,  3991.12878753,\n",
       "        5553.89471761, 46541.37810834, 13136.11580874,  4531.75573211,\n",
       "        6504.73012264,  3111.56094344, 41614.44046444, 13202.81680774,\n",
       "       12946.36416152,  5606.19130449,  6745.48207439,  5339.81227012,\n",
       "       27162.57634409, 27174.45354519,  4868.42421371,  6799.50613238,\n",
       "        4067.41291872, 16220.30247924,  7086.84653455,  7413.38902074,\n",
       "       13616.65274555, 14332.58800597, 10036.7032529 , 11981.82924796,\n",
       "        4634.76952583, 19864.50494751,  3168.48255349, 10465.74629162,\n",
       "        9000.19578718,  7980.71708962, 15820.43884078, 45007.6789208 ,\n",
       "        5235.14240594,  3361.66492577,  7330.45665825, 10606.84013363,\n",
       "        6708.00230343,  3245.7606439 , 14678.98451805,  9592.89890026,\n",
       "        7214.65138457,  7739.60155645, 14900.84933135,  7130.59592004,\n",
       "        7111.91602158,  2931.97542373,  7188.81148527,  7249.3762503 ,\n",
       "        3274.71648937, 12976.00891669,  5100.44799471, 24987.86382672,\n",
       "        5446.67435521,  6339.36078263,  6620.29819959, 46040.0052927 ,\n",
       "       13142.65010276, 34988.55058952,  3237.3452685 , 49498.46932192,\n",
       "        3329.27712434, 26687.62592599, 14448.46965583,  6934.05885702,\n",
       "        2954.41531891,  4148.12034893,  5248.81528243,  4231.85001367,\n",
       "       19949.26332402, 13917.21857874,  7021.84508553, 15490.24727874,\n",
       "       44909.60988853,  7336.72547179, 13928.42885082, 13142.65010276,\n",
       "       18265.52925049,  3174.28249944,  8976.37346369,  6077.48532301,\n",
       "        9968.84478065,  3471.6295992 , 14539.30267389,  4205.76820017,\n",
       "       13008.95757618, 23907.13390705,  8098.17928556, 10312.61307047,\n",
       "        4678.86290289, 13815.80078892, 13078.36840505,  5960.75315824,\n",
       "       14337.61190412, 12094.22021115,  4174.08373541,  3471.6295992 ,\n",
       "       36117.01355831, 20622.81265207,  2749.17338036, 46497.06793541,\n",
       "        8242.2191916 ,  7178.4614045 ,  9450.54035509, 41814.98980824,\n",
       "       43965.1555643 , 44358.83485601,  3245.7606439 ,  5616.50543076,\n",
       "       13590.7914766 , 13386.45601774,  3207.68015966, 14169.91744829,\n",
       "        9100.36115047,  8044.59960474,  7437.01379959, 46557.87831514,\n",
       "        7190.47315509,  6736.56080304, 19949.26332402, 19304.89235078,\n",
       "        3017.26787952,  9802.00627789,  6842.63156222,  3491.46396525,\n",
       "        9607.21346625, 11922.93450374, 14658.37219236,  9611.52291103,\n",
       "        4483.53928671,  6799.50613238, 13216.23915032, 15060.33033502,\n",
       "       13855.86013839, 12910.49388336,  4190.08920792, 27173.24661946,\n",
       "        7020.96655719,  5858.66096228,  4340.08827712,  7242.35437638,\n",
       "        6799.50613238,  9472.13732165,  5407.62585136,  7267.01762013,\n",
       "        6982.39601884, 20214.30842969,  5616.50543076,  7238.42594893,\n",
       "        3264.14664181,  7321.21353105,  6689.80434889,  3044.88611986,\n",
       "       19445.9457398 ,  4525.12352369,  5591.9564906 , 13812.03813834,\n",
       "       14169.91744829,  9736.17335841, 13954.72297254, 11162.41019001,\n",
       "       10143.78347448, 18638.72794286,  6354.03278838,  7267.01762013,\n",
       "       13256.02501357,  6855.57848249, 15900.724873  ,  7571.52783247,\n",
       "        7637.98113352, 27784.49072117, 13230.14812343, 12971.79615352,\n",
       "       11668.0501175 ,  3064.83124494,  8098.4855991 ,  5216.96916397,\n",
       "        6828.91396492,  7434.6754207 , 16981.47399939, 14449.42031581,\n",
       "       43965.37487211,  3254.24618847, 41674.14083958,  6811.8477341 ,\n",
       "        7516.12717484, 36123.45851414,  6041.7078598 ,  3393.70031044,\n",
       "        6326.10168417, 13247.21556915,  6283.95288744,  3545.09133827,\n",
       "       14012.01486161, 48282.56543357, 17705.65257862,  8016.6064762 ,\n",
       "       12986.97230616, 27921.95291962, 11159.68878258,  4262.32247967,\n",
       "        6293.10702965, 11505.72993566, 10685.28107179,  9582.5271774 ,\n",
       "        6300.39996805,  8204.84066324, 37725.53796126, 24663.04664103,\n",
       "        7229.1300767 , 27029.86887897, 26754.34706352, 13138.12067217,\n",
       "        6934.21172389, 10484.9820414 ,  7185.06693041, 10401.88027551,\n",
       "       14998.14202452,  3360.63382902,  7726.9097426 , 12914.74809153,\n",
       "        7438.14145407, 20146.06486227, 20473.29533753, 24359.62720087,\n",
       "       10000.86556395, 14965.68681983, 14192.40018387,  5337.68267611,\n",
       "        6646.9277734 , 13582.76650787, 39939.7919641 , 45938.07348038,\n",
       "        9034.50231308, 43965.37487211, 36502.53328735, 22277.52742288,\n",
       "       11049.33475466, 13058.54756571,  3287.52144966,  3175.91343763,\n",
       "       18631.11286792, 10464.07045682])"
      ]
     },
     "execution_count": 28,
     "metadata": {},
     "output_type": "execute_result"
    }
   ],
   "source": [
    "y_pred"
   ]
  },
  {
   "cell_type": "code",
   "execution_count": null,
   "id": "36911d57-f67c-40b2-b7b3-da3c0aa94ef1",
   "metadata": {},
   "outputs": [],
   "source": []
  }
 ],
 "metadata": {
  "kernelspec": {
   "display_name": "Python 3 (ipykernel)",
   "language": "python",
   "name": "python3"
  },
  "language_info": {
   "codemirror_mode": {
    "name": "ipython",
    "version": 3
   },
   "file_extension": ".py",
   "mimetype": "text/x-python",
   "name": "python",
   "nbconvert_exporter": "python",
   "pygments_lexer": "ipython3",
   "version": "3.12.7"
  }
 },
 "nbformat": 4,
 "nbformat_minor": 5
}
